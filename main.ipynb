{
 "cells": [
  {
   "cell_type": "code",
   "execution_count": 4,
   "metadata": {},
   "outputs": [],
   "source": [
    "import pandas as pd\n",
    "import tabula\n",
    "import materia as mtr"
   ]
  },
  {
   "cell_type": "code",
   "execution_count": 5,
   "metadata": {},
   "outputs": [],
   "source": [
    "pdf = tabula.read_pdf(\"horarios.pdf\", pages=\"all\", lattice=True, multiple_tables=True)\n",
    "df  = pd.concat(pdf)\n",
    "df.to_csv(\"horarios.csv\", index=False)"
   ]
  },
  {
   "cell_type": "code",
   "execution_count": 6,
   "metadata": {},
   "outputs": [],
   "source": [
    "NRCs = {}\n",
    "for i, row in df.iterrows():\n",
    "    if row['NRC'] in NRCs:\n",
    "        NRCs[row['NRC']].add_hora(row['Hora'])\n",
    "        NRCs[row['NRC']].add_dia(row['Días'])\n",
    "    else:\n",
    "        NRCs[row['NRC']] = mtr.Materia(row.to_dict())\n",
    "\n",
    "Materias = {}\n",
    "for nrc, materia in NRCs.items():\n",
    "    if materia.NOMBRE in Materias:\n",
    "        Materias[materia.NOMBRE].append(materia)\n",
    "    else:\n",
    "        Materias[materia.NOMBRE] = [materia]"
   ]
  },
  {
   "cell_type": "code",
   "execution_count": 3,
   "metadata": {},
   "outputs": [
    {
     "name": "stdout",
     "output_type": "stream",
     "text": [
      "('a', 1, 'x')\n",
      "('a', 1, 'y')\n",
      "('a', 2, 'x')\n",
      "('a', 2, 'y')\n",
      "('a', 3, 'x')\n",
      "('a', 3, 'y')\n",
      "('b', 1, 'x')\n",
      "('b', 1, 'y')\n",
      "('b', 2, 'x')\n",
      "('b', 2, 'y')\n",
      "('b', 3, 'x')\n",
      "('b', 3, 'y')\n",
      "('c', 1, 'x')\n",
      "('c', 1, 'y')\n",
      "('c', 2, 'x')\n",
      "('c', 2, 'y')\n",
      "('c', 3, 'x')\n",
      "('c', 3, 'y')\n"
     ]
    }
   ],
   "source": [
    "import itertools\n",
    "\n",
    "# Define the lists\n",
    "list1 = ['a', 'b', 'c']\n",
    "list2 = [1, 2, 3]\n",
    "list3 = ['x', 'y']\n",
    "\n",
    "# Generate combinations\n",
    "combinations = itertools.product(list1, list2, list3)\n",
    "\n",
    "# Print combinations\n",
    "for combination in combinations:\n",
    "    \n",
    "    print(combination)"
   ]
  }
 ],
 "metadata": {
  "kernelspec": {
   "display_name": "Python 3",
   "language": "python",
   "name": "python3"
  },
  "language_info": {
   "codemirror_mode": {
    "name": "ipython",
    "version": 3
   },
   "file_extension": ".py",
   "mimetype": "text/x-python",
   "name": "python",
   "nbconvert_exporter": "python",
   "pygments_lexer": "ipython3",
   "version": "3.11.3"
  }
 },
 "nbformat": 4,
 "nbformat_minor": 2
}
